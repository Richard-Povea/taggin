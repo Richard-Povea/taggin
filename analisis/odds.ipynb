{
 "cells": [
  {
   "cell_type": "code",
   "execution_count": 1,
   "metadata": {},
   "outputs": [],
   "source": [
    "import pandas as pd\n",
    "import numpy as np"
   ]
  },
  {
   "cell_type": "code",
   "execution_count": 3,
   "metadata": {},
   "outputs": [],
   "source": [
    "DATA_PATH = 'D:\\\\GITHUB\\\\taggin\\\\finalData.csv'"
   ]
  },
  {
   "cell_type": "code",
   "execution_count": 55,
   "metadata": {},
   "outputs": [],
   "source": [
    "def count(data):\n",
    "    data = data.replace('\\n ', ',')[1:-1]\n",
    "    return len(data.split(','))"
   ]
  },
  {
   "cell_type": "code",
   "execution_count": 58,
   "metadata": {},
   "outputs": [],
   "source": [
    "data = pd.read_csv(DATA_PATH)"
   ]
  },
  {
   "cell_type": "code",
   "execution_count": 61,
   "metadata": {},
   "outputs": [],
   "source": [
    "data['frog'] = data['frog'].apply(count)\n",
    "data['bird'] = data['bird'].apply(count)\n",
    "data['car'] = data['car'].apply(count)\n",
    "data['dog'] = data['dog'].apply(count)\n",
    "data['murmullo'] = data['murmullo'].apply(count)\n",
    "data['step'] = data['step'].apply(count)"
   ]
  },
  {
   "cell_type": "code",
   "execution_count": 65,
   "metadata": {},
   "outputs": [],
   "source": [
    "data.set_index('Unnamed: 0', inplace=True)"
   ]
  },
  {
   "cell_type": "code",
   "execution_count": 67,
   "metadata": {},
   "outputs": [],
   "source": [
    "import matplotlib.pyplot as plt"
   ]
  },
  {
   "cell_type": "code",
   "execution_count": 106,
   "metadata": {},
   "outputs": [],
   "source": [
    "def plot_data(class_tag: str):\n",
    "    taxonomy = {'frog', 'bird', 'car', 'dog', 'murmullo', 'step'}\n",
    "    if class_tag not in taxonomy:\n",
    "        raise Exception(f\"Class isn't in taxonomy\\nTry with {taxonomy}\") \n",
    "    n, bins, patches = plt.hist(data[class_tag], 10, facecolor='g', alpha=0.75)\n",
    "\n",
    "\n",
    "    plt.xlabel('Smarts')\n",
    "    plt.ylabel('Probability')\n",
    "    plt.title(f'Histogram of {class_tag}')\n",
    "    plt.text(3.5, 4000, r'$\\lambda=2$')\n",
    "    plt.grid(True)\n",
    "    plt.show()"
   ]
  },
  {
   "cell_type": "code",
   "execution_count": 107,
   "metadata": {},
   "outputs": [
    {
     "data": {
      "image/png": "[encoded data removed]",
      "text/plain": [
       "<Figure size 640x480 with 1 Axes>"
      ]
     },
     "metadata": {},
     "output_type": "display_data"
    }
   ],
   "source": [
    "plot_data('frog')"
   ]
  },
  {
   "cell_type": "code",
   "execution_count": 54,
   "metadata": {},
   "outputs": [
    {
     "data": {
      "text/plain": [
       "5"
      ]
     },
     "execution_count": 54,
     "metadata": {},
     "output_type": "execute_result"
    }
   ],
   "source": [
    "frog_array = len(frog_array.split(','))\n",
    "frog_array"
   ]
  },
  {
   "cell_type": "code",
   "execution_count": 47,
   "metadata": {},
   "outputs": [
    {
     "data": {
      "text/plain": [
       "array([], dtype=float64)"
      ]
     },
     "execution_count": 47,
     "metadata": {},
     "output_type": "execute_result"
    }
   ],
   "source": [
    "frog_array"
   ]
  }
 ],
 "metadata": {
  "kernelspec": {
   "display_name": "Python 3.10.6 ('dsp')",
   "language": "python",
   "name": "python3"
  },
  "language_info": {
   "codemirror_mode": {
    "name": "ipython",
    "version": 3
   },
   "file_extension": ".py",
   "mimetype": "text/x-python",
   "name": "python",
   "nbconvert_exporter": "python",
   "pygments_lexer": "ipython3",
   "version": "3.10.6"
  },
  "orig_nbformat": 4,
  "vscode": {
   "interpreter": {
    "hash": "32dd7baad8ccfe9361169f15ef07be9e1dff70e1f2610ad865f113ae6f95ed7a"
   }
  }
 },
 "nbformat": 4,
 "nbformat_minor": 2
}
